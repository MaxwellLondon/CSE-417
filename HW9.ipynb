{
 "cells": [
  {
   "cell_type": "code",
   "execution_count": 53,
   "metadata": {},
   "outputs": [],
   "source": [
    "import random\n",
    "\n",
    "\n",
    "def lcs(s1, s2):\n",
    "    m = len(s1)\n",
    "    n = len(s2)\n",
    "\n",
    "    # initialize the matrix with zeros\n",
    "    matrix = [[0] * (n+1) for _ in range(m+1)]\n",
    "\n",
    "    # populate the matrix\n",
    "    for i in range(m+1):\n",
    "        for j in range(n+1):\n",
    "            if i == 0 or j == 0:\n",
    "                matrix[i][j] = 0\n",
    "            elif s1[i-1] == s2[j-1]:\n",
    "                matrix[i][j] = matrix[i-1][j-1] + 1\n",
    "            else:\n",
    "                matrix[i][j] = max(matrix[i-1][j], matrix[i][j-1])\n",
    "\n",
    "    # return the value in the last cell of the matrix\n",
    "    return matrix[m][n]\n"
   ]
  },
  {
   "cell_type": "code",
   "execution_count": 54,
   "metadata": {},
   "outputs": [],
   "source": [
    "symbols = ['!', '@', '#', '$', '%', '^', '&', '*', '(', ')', '-', '_', '+', '=', '{', '}', '[', ']', '|', '\\\\', ';', ':', '\\'', '\\\"', ',', '<', '.', '>', '/', '?', '1', '2', '3', '4', '5', '6', '7', '8', '9', '0', 'a', 'b', 'c', 'd', 'e', 'f', 'g', 'h', 'i', 'j', 'k', 'l', 'm', 'n', 'o', 'p', 'q', 'r', 's', 't', 'u', 'v', 'w', 'x', 'y', 'z', 'A', 'B', 'C', 'D', 'E', 'F', 'G', 'H', 'I', 'J', 'K', 'L', 'M', 'N', 'O', 'P', 'Q', 'R', 'S', 'T', 'U', 'V', 'W', 'X', 'Y', 'Z']\n",
    "\n",
    "def stringGenerator(k, N):\n",
    "    availableSymbols = symbols[:k]\n",
    "    \n",
    "    s1 = \"\"\n",
    "    s2 = \"\"\n",
    "\n",
    "    for i in range(0, N):\n",
    "        s1 += (random.choice(availableSymbols))\n",
    "        s2 += (random.choice(availableSymbols))\n",
    "\n",
    "    return (s1, s2)\n"
   ]
  },
  {
   "cell_type": "code",
   "execution_count": 55,
   "metadata": {},
   "outputs": [],
   "source": [
    "\n",
    "def driverFunction(numTrials, N, K_list):\n",
    "    results = {}\n",
    "\n",
    "    for k in K_list:\n",
    "        avg_lcs_length = 0\n",
    "\n",
    "        for i in range(numTrials):\n",
    "            s1, s2 = stringGenerator(k, N)\n",
    "            lcsDiff = lcs(s1, s2)\n",
    "\n",
    "            avg_lcs_length += lcsDiff\n",
    "\n",
    "        avg_lcs_length /= numTrials\n",
    "        results[k] = avg_lcs_length / N\n",
    "\n",
    "    return results\n",
    "\n"
   ]
  },
  {
   "cell_type": "code",
   "execution_count": 56,
   "metadata": {},
   "outputs": [
    {
     "name": "stdout",
     "output_type": "stream",
     "text": [
      "{2: 0.7731999999999999, 3: 0.6716, 4: 0.6078, 5: 0.5538000000000001, 6: 0.5197999999999999, 7: 0.4876, 8: 0.46659999999999996, 9: 0.44299999999999995, 10: 0.428}\n"
     ]
    }
   ],
   "source": [
    "print(driverFunction(numTrials = 100, N = 50, K_list = [2, 3, 4, 5, 6, 7, 8, 9, 10]))"
   ]
  },
  {
   "attachments": {},
   "cell_type": "markdown",
   "metadata": {},
   "source": [
    "Problem 2 (10 points):\n",
    "Answer the following questions with “yes”, “no”, or “unknown, as this would resolve the P vs. NP\n",
    "question.” Give a brief explanation of your answer.\n",
    "Define the decision version of the Interval Scheduling Problem as follows: Given a collection of\n",
    "intervals on a time-line, and a bound k, does the collection contain a subset of nonoverlapping\n",
    "intervals of size at least k?\n",
    "\n",
    "\n",
    "\n",
    "a) Question: Is it the case that Interval Scheduling ≤P Vertex Cover?\n",
    "\n",
    "Yes, this reduction can be performed in polynomial time. This situation can be modeled by connecting intervals as nodes by edges only if they overlap. \n",
    "The vertex cover could then return us a non-overlapping interval schedule of size n-k by performing a vertex cover. \n",
    "\n",
    "\n",
    "\n",
    "b) Question: Is it the case that Independent Set ≤P Interval Scheduling?\n",
    "\n",
    "Yes, this reduction can also be performed in polynomial time. Imagine a graph where each node represents an interval. Nodes will only be connected if they have a conflicting time. \n",
    "By performing the independent set, we will then find a valid non-overlapping schedule. However, this is not guranteed to be the optimal schedule. "
   ]
  },
  {
   "attachments": {},
   "cell_type": "markdown",
   "metadata": {},
   "source": [
    "Problem 3 (10 points):\n",
    "Argue that the following problems are in NP. (Note: just show they are in NP, this question is not\n",
    "asking you to show they are NP-Complete.)\n",
    "\n",
    "\n",
    "a) The Clique Problem. A clique in an undirected graph G = (V, E) is a subset U ⊆ V , such\n",
    "that there is an edge in E between every pair of vertices x, y in U. The Clique Problems is:\n",
    "Given a graph G = (V, E) and an integer K, does there exist a clique of size at least K.\n",
    "\n",
    "The clique problem is considered NP because it can be verified in polynomial time. If a certificate was given contaning the list of nodes and edges contained within a clique, a polynomial time algorithm would be able to assess and confirm that the collection given is a clique of size K.\n",
    "\n",
    "b) The Shortest-Paths Problem. The formal version (as a yes-no problem): Given a directed\n",
    "graph G = (V, E) with integer edge lengths, distinguished vertices s and t, and an integer K,\n",
    "does there exist a path of length at most K between s and t.\n",
    "\n",
    "The shortest-paths problem is considered NP only when negative edge weights are allowed, if they are not, the problem is considered to be P. The shortests paths problem is considered NP because if a certificate containing a shortest path was given with two starting nodes and the associated intermediate nodes and edges you would be able to \n",
    "verify this path in polynomial time. As long as the Path is valid and the length is at most K, then this solution could be verified. \n",
    "\n",
    "c) The 4-Dimensional Matching Problem. (Defined in Problem 4.)\n",
    "\n",
    "The 4-Dimensional Matching Problem is considered to be NP because it can be verified in polynomial time. Given a certficicate that contains all of the tuples outputted from 4-D matching, we can analyze each tuple and ensure that there are no duplicates within the output tuples. As long as there are no conflicting duplicates, then we can consider this problem to be verified. \n",
    "\n",
    "\n",
    "d) The Zero-Weight-Cycle Problem. (Defined in Problem 5.)\n",
    "\n",
    "The Zero-Weight-Cycle Problem is considered to be NP because it can be verified in polynomial time. All that is needed is a certificate containing the cycle and associated edge costs. All you would need to do is traverse the cycle one iteration with a running count on the cost. If you finish the cycle with cost 0 then we can verify the solution. "
   ]
  },
  {
   "attachments": {},
   "cell_type": "markdown",
   "metadata": {},
   "source": [
    "Problem 4 (10 points):\n",
    "(Kleinberg-Tardos, Page 507, Problem 7). Since the 3-Dimensional Matching Problem is NPcomplete, it is natural to expect that the corresponding 4-Dimensional Matching Problem is at\n",
    "least as hard. Let us define 4-Dimensional Matching as follows. Given sets W, X, Y , and Z, each\n",
    "of size n, and a collection C of ordered 4-tuples of the form (wi\n",
    ", xj , yk, zl), do there exist n 4-tuples\n",
    "from C so that no two have an element in common?\n",
    "Prove that 4-Dimensional Matching is NP-Complete\n",
    "\n",
    "\n",
    "Since we know that 3D matching is considered to be NP Complete, we can then project on to this problem in order to mimic the 4-dimensional matching problem. Imagine we have a standard 3-d matching problem with sets A, B, C and tuples such as (A1, B1, C1) each set will have N elements and N tuples are expected to be outputted. Now, imagine that \n",
    "a new arbitrary set has been added: D. D will be considered perfect, i.e it will only contain distinct values. With this consideration made, we can just arbitrariliy add a value from D to each of the tuples, without effecting their matching. This would be considered 4-d matching, however, it would only have the complexity of 3-d matching. This conversion can be performed in Polynomial time so we now know that 4D matching is also considered to be NP Complete. "
   ]
  },
  {
   "attachments": {},
   "cell_type": "markdown",
   "metadata": {},
   "source": [
    "Problem 5 (10 Points):\n",
    "(Kleinberg-Tardos, Page 513, Problem 17). You are given a directed graph G = (V, E) with weights\n",
    "we on its edges e ∈ E. The weights can be negative or positive. The Zero-Weight-Cycle Problem is\n",
    "to decide if there is a simple cycle in G so that the sum of the edge weights on this cycle is exactly\n",
    "0. Prove that the Zero-Weight-Cycle problem is NP-Complete. (Hint: Hamiltonian PATH)\n",
    "\n",
    "This problem can be verified in polynomial time given a valid certificate, all you would need to do is add up the sum of all of the edge weights in a presented cycle and verify that it is equal to 0. \n",
    "\n",
    "\n",
    "In order to prove that this problem falls in the class of NP-Complete we can reduce this problem to the subset-sum problem. In order to do this, we must consider all of the edges in the graph. We will model this situation by placing an associated integer within the set the same value as the edge weight. In order for their to be a 0 weight cycle, then there must also be a solution to the subset sum problem equal to 0. While this reduction doesn't exactly prove the existance of a 0 weight cycle, if one were to be present in the graph, then there must be a solution equal to 0 within this subset sum model. By this reduction, we can prove that the 0 weight cycle is just has hard as the subset sum problem and thefore we can prove that it falls within NP-Complete. "
   ]
  }
 ],
 "metadata": {
  "kernelspec": {
   "display_name": "Python 3",
   "language": "python",
   "name": "python3"
  },
  "language_info": {
   "codemirror_mode": {
    "name": "ipython",
    "version": 3
   },
   "file_extension": ".py",
   "mimetype": "text/x-python",
   "name": "python",
   "nbconvert_exporter": "python",
   "pygments_lexer": "ipython3",
   "version": "3.8.0"
  },
  "orig_nbformat": 4,
  "vscode": {
   "interpreter": {
    "hash": "0adcc2737ebf6a4a119f135174df96668767fca1ef1112612db5ecadf2b6d608"
   }
  }
 },
 "nbformat": 4,
 "nbformat_minor": 2
}
