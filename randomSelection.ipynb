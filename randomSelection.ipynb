{
 "cells": [
  {
   "cell_type": "code",
   "execution_count": 73,
   "metadata": {},
   "outputs": [],
   "source": [
    "import random as r \n",
    "\n",
    "def random_selection(arr, k, comparisons = 0):\n",
    "    \n",
    "    #Base case, if the array only has one element you must return \n",
    "    if len(arr) == 1:\n",
    "        return (arr[0], comparisons)\n",
    "\n",
    "    #Selecting random pivot within the array.\n",
    "    pivot = r.choice(arr)\n",
    "\n",
    "    #Array  of all values less than the pivot\n",
    "    lows = [x for x in arr if x < pivot]\n",
    "    #Array  of all values greater than the pivot\n",
    "    highs = [x for x in arr if x > pivot]\n",
    "    #Array  of all values equal to the pivot\n",
    "    equals = [x for x in arr if x == pivot]\n",
    "    # 3 x len(arr) comparisons.\n",
    "    comparisons += (len(arr) * 3)\n",
    "\n",
    "    # Calculate which part of the array to recurse on based on the number of\n",
    "    # elements greater than the pivot.\n",
    "\n",
    "    if k <= len(highs):\n",
    "        #Case when K largest is in the high part of array\n",
    "        return random_selection(highs, k, comparisons)\n",
    "    elif k <= len(highs) + len(equals):\n",
    "        #Case when K largest is within the equals part of array\n",
    "        return (pivot, comparisons)\n",
    "    else:\n",
    "        #Case when K largest is in th elow part of the array.\n",
    "\n",
    "        #K must be adjusted because we are shifting the window of the array to be lower. \n",
    "\n",
    "        #If lows is empty, then return pivot. \n",
    "        \n",
    "        if lows:\n",
    "            return random_selection(lows, k - len(highs) - len(equals), comparisons)\n",
    "        else:\n",
    "            return (pivot, comparisons)"
   ]
  },
  {
   "cell_type": "code",
   "execution_count": 74,
   "metadata": {},
   "outputs": [
    {
     "name": "stdout",
     "output_type": "stream",
     "text": [
      "(500000, 4305237),(500000, 4794126),(500000, 5791227),(500000, 4902048),(500000, 3149406),(500000, 9765765),(500000, 7623558),(500000, 5766471),(500000, 2664177),(1000000, 7303740),(1000000, 10769397),(1000000, 8617317),(1000000, 9997308),(1000000, 8085576),(1000000, 9055644),(1000000, 10222230),(1000000, 8554206),(1000000, 7928220),(1500000, 18654399),(1500000, 15468090),(1500000, 16670709),(1500000, 13081131),(1500000, 13041552),(1500000, 11892183),(1500000, 11401983),(1500000, 13278843),(1500000, 16533141),(2000000, 16559979),(2000000, 32729187),(2000000, 21426699),(2000000, 15650697),(2000000, 18221772),(2000000, 13304127),(2000000, 20251656),(2000000, 11752560),(2000000, 29651220),(2500000, 23340456),(2500000, 26800371),(2500000, 23126529),(2500000, 27436254),(2500000, 20533221),(2500000, 26065626),(2500000, 23529882),(2500000, 36065694),(2500000, 31775154),(3000000, 24042159),(3000000, 18767244),(3000000, 31745523),(3000000, 21296040),(3000000, 35876928),(3000000, 47170152),(3000000, 19165647),(3000000, 45097509),(3000000, 23615079),(3500000, 16915485),(3500000, 46522998),(3500000, 44457645),(3500000, 27287910),(3500000, 38513100),(3500000, 38177310),(3500000, 41569404),(3500000, 32574588),(3500000, 44538819),(4000000, 47367795),(4000000, 23558241),(4000000, 26190363),(4000000, 33583275),(4000000, 51422052),(4000000, 22359126),(4000000, 47983506),(4000000, 33234096),(4000000, 49817316),(4500000, 42796254),(4500000, 50385240),(4500000, 35430204),(4500000, 92826744),(4500000, 48640050),(4500000, 44341482),(4500000, 82007073),(4500000, 66839415),(4500000, 64028541),"
     ]
    }
   ],
   "source": [
    "\n",
    "values = []\n",
    "\n",
    "\n",
    "for i in range(1, 10):\n",
    "    for j in range (1, 10):\n",
    "        arr = [r.randint(1, 500000) for _ in range(i * 500000)]\n",
    "        k = (i * 500000) / 2\n",
    "        result = random_selection(arr, k)\n",
    "        values.append(result[1] / (i*500000))\n",
    "        print(f\"{(i * 500000, result[1])},\", end = \"\")\n"
   ]
  }
 ],
 "metadata": {
  "kernelspec": {
   "display_name": "Python 3",
   "language": "python",
   "name": "python3"
  },
  "language_info": {
   "codemirror_mode": {
    "name": "ipython",
    "version": 3
   },
   "file_extension": ".py",
   "mimetype": "text/x-python",
   "name": "python",
   "nbconvert_exporter": "python",
   "pygments_lexer": "ipython3",
   "version": "3.11.0"
  },
  "orig_nbformat": 4,
  "vscode": {
   "interpreter": {
    "hash": "aee8b7b246df8f9039afb4144a1f6fd8d2ca17a180786b69acc140d282b71a49"
   }
  }
 },
 "nbformat": 4,
 "nbformat_minor": 2
}
