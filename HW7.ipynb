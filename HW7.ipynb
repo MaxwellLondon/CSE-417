{
 "cells": [
  {
   "cell_type": "code",
   "execution_count": 35,
   "metadata": {},
   "outputs": [],
   "source": [
    "def weightedIndependentSet(graphArray):\n",
    "    N = len(graphArray)\n",
    "    solutionArray = [0] * N\n",
    "    \n",
    "    # Base cases for empty and single-vertex graphs\n",
    "    solutionArray[0] = 0\n",
    "\n",
    "    solutionArray[1] = graphArray[0]\n",
    "   \n",
    "    if N > 1:\n",
    "        solutionArray[1] = graphArray[1]\n",
    "    \n",
    "    # Dynamic programming step for the rest of the graph\n",
    "    for i in range(2, N):\n",
    "        # Compute the maximum weight independent set for the subgraph induced by vertices 0 to i\n",
    "        include_i = solutionArray[i-2] + graphArray[i]\n",
    "        exclude_i = solutionArray[i-1]\n",
    "        solutionArray[i] = max(include_i, exclude_i)\n",
    "    \n",
    "    return solutionArray\n",
    "\n",
    "\n"
   ]
  },
  {
   "cell_type": "code",
   "execution_count": 41,
   "metadata": {},
   "outputs": [
    {
     "data": {
      "text/plain": [
       "[0, 1, 2, 7, 7, 15]"
      ]
     },
     "execution_count": 41,
     "metadata": {},
     "output_type": "execute_result"
    }
   ],
   "source": [
    "graphArray = [5, 1, 2, 6, 2, 8]\n",
    "expectedOutput = 19\n",
    "\n",
    "weightedIndependentSet(graphArray)"
   ]
  }
 ],
 "metadata": {
  "kernelspec": {
   "display_name": "Python 3",
   "language": "python",
   "name": "python3"
  },
  "language_info": {
   "codemirror_mode": {
    "name": "ipython",
    "version": 3
   },
   "file_extension": ".py",
   "mimetype": "text/x-python",
   "name": "python",
   "nbconvert_exporter": "python",
   "pygments_lexer": "ipython3",
   "version": "3.8.0 (v3.8.0:fa919fdf25, Oct 14 2019, 10:23:27) \n[Clang 6.0 (clang-600.0.57)]"
  },
  "orig_nbformat": 4,
  "vscode": {
   "interpreter": {
    "hash": "0adcc2737ebf6a4a119f135174df96668767fca1ef1112612db5ecadf2b6d608"
   }
  }
 },
 "nbformat": 4,
 "nbformat_minor": 2
}
